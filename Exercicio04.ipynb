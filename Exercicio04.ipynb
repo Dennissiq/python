{
 "cells": [
  {
   "cell_type": "markdown",
   "metadata": {},
   "source": [
    "# Exercícios 04\n",
    "\n",
    "## Dennis Siqueira\n",
    "## RA: 81621468"
   ]
  },
  {
   "cell_type": "markdown",
   "metadata": {},
   "source": [
    "1 Menor de dois pares: Escreva uma função que retorne o menor de dois números\n",
    "dados se ambos os números forem pares, mas retorna o maior se um dos dois for\n",
    "ímpar. Exemplo:\n",
    "\n",
    "menor_de_dois_pares(2,4) --> 2\n",
    "menor_de_dois_pares (2,5) --> 5\n"
   ]
  },
  {
   "cell_type": "code",
   "execution_count": null,
   "metadata": {},
   "outputs": [],
   "source": [
    "def dois_pares(numeros):\n",
    "    if numeros[0]%2 != 0 or numeros[1]%2 != 0:\n",
    "        return max(numeros)\n",
    "    elif numeros[0]%2 == 0 or numeros[1]%2 == 0:\n",
    "        return min(numeros)\n",
    "\n",
    "print(dois_pares([5,2]))"
   ]
  },
  {
   "cell_type": "markdown",
   "metadata": {},
   "source": [
    "3 Mestre Yoda: Dada uma sentença, a função deve retornar a sentença com as\n",
    "palavras na ordem reversa. Exemplo:\n",
    "mestre_yoda('Eu estou em casa') --> 'casa em estou Eu'\n",
    "mestre_yoda('Estamos prontos') --> 'prontos Estamos'"
   ]
  },
  {
   "cell_type": "code",
   "execution_count": null,
   "metadata": {},
   "outputs": [],
   "source": [
    "def mestre_yoda(fala):\n",
    "    separacao = fala.split(\" \")\n",
    "    separacao.reverse()\n",
    "    yoda_falou = \" \".join(separacao)\n",
    "    print(yoda_falou)\n",
    "    \n",
    "mestre_yoda(\"Estamos prontos\")"
   ]
  },
  {
   "cell_type": "markdown",
   "metadata": {},
   "source": [
    "6 Espião: Escreva uma função que receba uma lista de\n",
    "inteiros e retorne True se contém um 007 em ordem, mesmo\n",
    "que não contínuo. Exemplo:\n",
    "\n",
    "espiao([1,2,4,0,0,7,5]) --> True\n",
    "espiao([1,0,2,4,0,5,7]) --> True\n",
    "espiao([1,7,2,4,0,5,0]) --> False\n"
   ]
  },
  {
   "cell_type": "code",
   "execution_count": null,
   "metadata": {},
   "outputs": [],
   "source": [
    "def spy(agents):\n",
    "    status = \"spy\"\n",
    "    for i in agents:\n",
    "        if i == 0:\n",
    "            if status == \"spy\":\n",
    "                status = \"0\"\n",
    "            else:\n",
    "                if status == \"0\":\n",
    "                    status = \"00\"\n",
    "        elif i == 7:\n",
    "            if status == \"00\":\n",
    "                return True\n",
    "    return False\n",
    "\n",
    "print(spy([1,2,4,0,0,7,5]))\n",
    "print(spy([1,0,2,4,0,5,7]))\n",
    "print(spy([1,7,2,4,0,5,0]))"
   ]
  },
  {
   "cell_type": "code",
   "execution_count": null,
   "metadata": {},
   "outputs": [],
   "source": []
  }
 ],
 "metadata": {
  "kernelspec": {
   "display_name": "Python 3",
   "language": "python",
   "name": "python3"
  },
  "language_info": {
   "codemirror_mode": {
    "name": "ipython",
    "version": 3
   },
   "file_extension": ".py",
   "mimetype": "text/x-python",
   "name": "python",
   "nbconvert_exporter": "python",
   "pygments_lexer": "ipython3",
   "version": "3.6.5"
  }
 },
 "nbformat": 4,
 "nbformat_minor": 2
}
