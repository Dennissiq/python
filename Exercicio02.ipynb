{
 "cells": [
  {
   "cell_type": "markdown",
   "metadata": {},
   "source": [
    "1 - Crie um programa que recebe uma lista de números e\n",
    "- retorne o maior elemento\n",
    "- retorne a soma dos elementos\n",
    "- retorne o número de ocorrências do primeiro elemento da lista\n",
    "- retorne a média dos elementos\n",
    "- retorne o valor mais próximo da média dos elementos\n",
    "- retorne a soma dos elementos com valor negativo\n",
    "- retorne a quantidade de vizinhos iguais"
   ]
  },
  {
   "cell_type": "code",
   "execution_count": null,
   "metadata": {},
   "outputs": [],
   "source": [
    "lista = [1,2,3,1,1,4,-7,-9,-15]\n",
    "\n",
    "maior_num = max(lista)\n",
    "soma_num = sum(lista)\n",
    "counter_num = lista.count(lista[0])\n",
    "media = sum(lista)/len(lista)\n",
    "mediaInt = int(media)\n",
    "\n",
    "ordernacao = lista.sort()\n",
    "\n",
    "lista_2 = []\n",
    "\n",
    "for indice, valor in enumerate(lista):\n",
    "    if valor < 0:\n",
    "        lista_2 = lista_2 + [valor]\n",
    "lista_2 = sum(lista_2)\n",
    "\n",
    "\n",
    "print('O maior elemento é {},\\nA soma dos elementos é {},\\nO número de ocorrencias do primeiro elemento é {} ,\\nA média é {} ,\\nA média aproximada é {} \\nA soma dos valores negativos é {}'.format(maior_num, soma_num, counter_num, mediaInt, media, lista_2))"
   ]
  },
  {
   "cell_type": "markdown",
   "metadata": {},
   "source": [
    "2 - Faça um programa que receba duas listas e retorne True se são\n",
    "iguais ou False caso contrario.\n",
    "Duas listas são iguais se possuem os mesmos valores e na mesma\n",
    "ordem."
   ]
  },
  {
   "cell_type": "code",
   "execution_count": null,
   "metadata": {},
   "outputs": [],
   "source": [
    "lista_1 = [1,2,3,4,5]\n",
    "lista_2 = [2,3,4,5,6]\n",
    "\n",
    "comparacao = lista_1 == lista_2\n",
    "\n",
    "print(comparacao)"
   ]
  },
  {
   "cell_type": "markdown",
   "metadata": {},
   "source": [
    "3 - Faça um programa que receba duas listas e retorne True se têm\n",
    "os mesmos elementos ou False caso contrário\n",
    "Duas listas possuem os mesmos elementos quando são compostas\n",
    "pelos mesmos valores, mas não obrigatoriamente na mesma ordem."
   ]
  },
  {
   "cell_type": "code",
   "execution_count": null,
   "metadata": {},
   "outputs": [],
   "source": [
    "lista_1 = ['banana','abacaxi', 'pera']\n",
    "lista_2 = ['pera', 'banana', 'abacaxi']\n",
    "\n",
    "lista_1.sort()\n",
    "lista_2.sort()\n",
    "\n",
    "comparacao = lista_1 == lista_2\n",
    "\n",
    "print(comparacao)\n"
   ]
  },
  {
   "cell_type": "markdown",
   "metadata": {},
   "source": [
    "4 Faça um programa que percorre uma lista com o seguinte\n",
    "formato: [['Brasil', 'Italia', [10, 9]], ['Brasil', 'Espanha', [5, 7]],\n",
    "['Italia', 'Espanha', [7,8]]]. Essa lista indica o número de faltas que\n",
    "cada time fez em cada jogo. Na lista acima, no jogo entre Brasil e\n",
    "Itália, o Brasil fez 10 faltas e a Itália fez 9.\n",
    "O programa deve imprimir na tela:\n",
    "- o total de faltas do campeonato\n",
    "- o time que fez mais faltas\n",
    "- o time que fez menos faltas"
   ]
  },
  {
   "cell_type": "code",
   "execution_count": null,
   "metadata": {},
   "outputs": [],
   "source": [
    "jogo_1 = ['Brasil', 'Italia', [10,9]]\n",
    "jogo_2 = ['Brasil', 'Espanha', [5,7]]\n",
    "jogo_3 = ['Italia', 'Espanha', [7,8]]\n",
    "\n",
    "faltas_total = sum(jogo_1[2] + jogo_2[2] + jogo_3[2])\n",
    "\n",
    "\n",
    "falta_brasil = jogo_1[2][0] + jogo_2[2][0]\n",
    "falta_italia = jogo_1[2][1] + jogo_3[2][0]\n",
    "falta_espanha =  jogo_2[2][1] + jogo_3[2][1]\n",
    "\n",
    "\n",
    "faltas = {\n",
    "    'Brasil': falta_brasil,\n",
    "    'Italia': falta_italia,\n",
    "    'Espanha': falta_espanha\n",
    "}\n",
    "\n",
    "mais_faltas = max(faltas.items())\n",
    "menos_faltas = min(faltas.items())\n",
    "\n",
    "\n",
    "print('O time com mais faltas:{} \\nO time com menos faltas:{} \\n'.format(mais_faltas, menos_faltas))"
   ]
  },
  {
   "cell_type": "markdown",
   "metadata": {},
   "source": [
    "5 - Escreva um programa que conta a quantidade de vogais em uma\n",
    "string e armazena tal quantidade em um dicionário, onde a chave é\n",
    "a vogal considerada."
   ]
  },
  {
   "cell_type": "code",
   "execution_count": null,
   "metadata": {},
   "outputs": [],
   "source": [
    "texto = 'asjdhakjdahiuehiuwhisdaudhaihiuoooiudhwiudohawiu12312312rewdfdsfweewqfge4wf'\n",
    "\n",
    "letra_a = texto.count('a')\n",
    "letra_e = texto.count('e')\n",
    "letra_i = texto.count('i')\n",
    "letra_o = texto.count('o')\n",
    "letra_u = texto.count('u')\n",
    "\n",
    "\n",
    "quantidade_letras = {\n",
    "    'a': letra_a,\n",
    "    'e': letra_e,\n",
    "    'i': letra_i,\n",
    "    'o': letra_o,\n",
    "    'u': letra_u\n",
    "}\n",
    "\n",
    "print(quantidade_letras)"
   ]
  },
  {
   "cell_type": "markdown",
   "metadata": {},
   "source": [
    "6 - Escreva um programa que lê duas notas de vários alunos e\n",
    "armazena tais notas em um dicionário, onde a chave é o nome do\n",
    "aluno. A entrada de dados deve terminar quando for lida uma string\n",
    "vazia como nome. Escreva uma função que retorna a média do\n",
    "aluno, dado seu nome."
   ]
  },
  {
   "cell_type": "code",
   "execution_count": null,
   "metadata": {},
   "outputs": [],
   "source": [
    "notas = {\n",
    "    'joao': [10,8],\n",
    "    'maria': [7,7.5],\n",
    "    'fernando': [9,8],\n",
    "    'rodrigo': [10,10],\n",
    "    'arnaldo': [4, 10]\n",
    "}\n",
    "\n",
    "aluno = notas.get(input('qual o nome do aluno?\\n'))\n",
    "\n",
    "if aluno != None:\n",
    "    media = (aluno[0] + aluno[1])/2\n",
    "    print(media)\n",
    "else:\n",
    "    print('Aluno não encontrado')"
   ]
  },
  {
   "cell_type": "markdown",
   "metadata": {},
   "source": [
    "7 - Uma pista de Kart permite 10 voltas para cada um de 6\n",
    "corredores. Escreva um programa que leia todos os tempos em\n",
    "segundos e os guarde em um dicionário, onde a chave é o nome do\n",
    "corredor. Ao fnal diga de quem foi a melhor volta da prova e em\n",
    "que volta; e ainda a classifcação fnal em ordem (1o o campeão). O\n",
    "campeão é o que tem a menor média de tempos."
   ]
  },
  {
   "cell_type": "code",
   "execution_count": null,
   "metadata": {},
   "outputs": [],
   "source": [
    "voltas = {}\n",
    "\n",
    "voltas['Dennis'] = [25,110,18,139,145,147,145,123,88,120]\n",
    "voltas['Fernando'] = [150, 120, 100, 95, 145, 122, 124, 147, 111, 123]\n",
    "voltas['Manoel'] = [121, 98, 99, 186, 122, 123, 134, 133, 111, 121]\n",
    "voltas['Rodrigo'] = [20, 25, 30, 111, 22, 108, 107, 111, 121, 100]\n",
    "voltas['Maria'] = [111, 130, 300, 432, 221, 111, 111, 222, 321, 321]\n",
    "voltas['Larissa'] = [494, 88, 60, 22, 121, 122, 144, 109, 69, 120]\n",
    "\n",
    "print('Voltas: \\n', voltas)\n",
    "\n",
    "\n",
    "medias = {\n",
    "    \"Dennis\" : sum(voltas.get('Dennis'))/len(voltas.get('Dennis')),\n",
    "    \"Fernando\" : sum(voltas.get('Fernando'))/len(voltas.get('Fernando')),\n",
    "    \"Manoel\" : sum(voltas.get('Manoel'))/len(voltas.get('Manoel')),\n",
    "    \"Rodrigo\" : sum(voltas.get('Rodrigo'))/len(voltas.get('Rodrigo')),\n",
    "    \"Maria\" : sum(voltas.get('Maria'))/len(voltas.get('Maria')),\n",
    "    \"Larissa\" : sum(voltas.get('Larissa'))/len(voltas.get('Larissa'))\n",
    "}\n",
    "\n",
    "print('\\nVencedor: \\n', min(medias, key=medias.get))\n"
   ]
  },
  {
   "cell_type": "markdown",
   "metadata": {},
   "source": [
    "8 - Escreva um programa para armazenar uma agenda de telefones\n",
    "em um dicionário. Cada pessoa pode ter um ou mais telefones e a\n",
    "chave do dicionário é o nome da pessoa. Seu programa deve ter as\n",
    "seguintes funções:\n",
    "incluirNovoNome – essa função acrescenta um novo nome na\n",
    "agenda, com um ou mais telefones. Ela deve receber como\n",
    "argumentos o nome e os telefones.\n",
    "incluirTelefone – essa função acrescenta um telefone em um nome\n",
    "existente na agenda. Caso o nome não exista na agenda, você̂ deve\n",
    "perguntar se a pessoa deseja inclui-lo. Caso a resposta seja\n",
    "afrmativa, use a função anterior para incluir o novo nome.\n",
    "excluirTelefone – essa função exclui um telefone de uma pessoa\n",
    "que já está na agenda. Se a pessoa tiver apenas um telefone, ela\n",
    "deve ser excluída da agenda.\n",
    "excluirNome – essa função exclui uma pessoa da agenda.\n",
    "consultarTelefone – essa função retorna os telefones de uma\n",
    "pessoa na agenda."
   ]
  },
  {
   "cell_type": "code",
   "execution_count": null,
   "metadata": {},
   "outputs": [],
   "source": [
    "nome = input('Insira um nome em sua agenda\\n')\n",
    "telefones = eval('[' + input(\"Insira alguns telefones \") + ']')\n",
    "\n",
    "agenda = {}\n",
    "\n",
    "\n",
    "def incluirNovoNome(nome, telefones):\n",
    "    novo_nome = {nome: telefones}\n",
    "    agenda.update(novo_nome)\n",
    "\n",
    "    while nome != '':\n",
    "        nome = input('Insira um nome em sua agenda\\n')\n",
    "        telefones = eval('[' + input(\"Insira alguns telefones \\n\") + ']')\n",
    "        if( nome != ''):\n",
    "            novo_nome = {nome: telefones}\n",
    "            agenda.update(novo_nome)\n",
    "        print('Agenda Atualizada com sucesso\\n', agenda)\n",
    "\n",
    "# def incluirTelefone(nome, telefones):\n",
    "#     if(nome == agenda.keys()):\n",
    "#         inclui_contato = input('Este contato já existe, deseja atualizar seu contato?\\n')\n",
    "#         if(inclui_contato == 'sim'):\n",
    "#             incluirNovoNome(nome,telefones)\n",
    "\n",
    "\n",
    "incluirNovoNome(nome, telefones)\n",
    "\n",
    "print(agenda)"
   ]
  },
  {
   "cell_type": "markdown",
   "metadata": {},
   "source": [
    "9- Faça um programa que leia um arquivo texto contendo uma lista\n",
    "de endereços IP e gere um outro arquivo, contendo um relatório dos\n",
    "endereços IP válidos e inválidos.\n",
    "O arquivo de entrada possui o seguinte formato:\n",
    "200.135.80.9\n",
    "192.168.1.1\n",
    "8.35.67.74\n",
    "257.32.4.5\n",
    "85.345.1.2\n",
    "1.2.3.4\n",
    "9.8.234.5\n",
    "192.168.0.256\n",
    "O arquivo de saída possui o seguinte formato:\n",
    "[Endereços válidos:]\n",
    "200.135.80.9\n",
    "192.168.1.1\n",
    "8.35.67.74\n",
    "1.2.3.4\n",
    "[Endereços inválidos:]\n",
    "257.32.4.5\n",
    "85.345.1.2\n",
    "9.8.234.5\n",
    "192.168.0.256"
   ]
  },
  {
   "cell_type": "code",
   "execution_count": null,
   "metadata": {},
   "outputs": [],
   "source": [
    "%%writefile ips.txt\n",
    "200.135.80.9\n",
    "192.168.1.1\n",
    "8.35.67.74\n",
    "257.32.4.5\n",
    "85.345.1.2\n",
    "1.2.3.4\n",
    "9.8.234.5\n",
    "192.168.0.256"
   ]
  },
  {
   "cell_type": "code",
   "execution_count": null,
   "metadata": {},
   "outputs": [],
   "source": [
    "myfile=open('ips.txt')\n",
    "myfile.seek(0)\n",
    "myfile.read()\n",
    "\n"
   ]
  },
  {
   "cell_type": "code",
   "execution_count": null,
   "metadata": {},
   "outputs": [],
   "source": [
    "my_file = open('ips.txt', 'w+')\n",
    "my_file.write('[Endereços válidos:]\\n200.135.80.9\\n192.168.1.1\\n8.35.67.74\\n1.2.3.4\\n[Endereços inválidos:]\\n257.32.4.5\\n9.8.234.5\\n192.168.0.256')\n",
    "\n",
    "my_file.seek(0)\n",
    "my_file.read() "
   ]
  },
  {
   "cell_type": "code",
   "execution_count": null,
   "metadata": {},
   "outputs": [],
   "source": []
  }
 ],
 "metadata": {
  "kernelspec": {
   "display_name": "Python 3",
   "language": "python",
   "name": "python3"
  },
  "language_info": {
   "codemirror_mode": {
    "name": "ipython",
    "version": 3
   },
   "file_extension": ".py",
   "mimetype": "text/x-python",
   "name": "python",
   "nbconvert_exporter": "python",
   "pygments_lexer": "ipython3",
   "version": "3.6.5"
  }
 },
 "nbformat": 4,
 "nbformat_minor": 2
}
