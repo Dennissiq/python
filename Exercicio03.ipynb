{
 "cells": [
  {
   "cell_type": "markdown",
   "metadata": {},
   "source": [
    "# Dennis Siqueira\n",
    "## RA: 81621468\n",
    "\n",
    "## Lista de Exercícios 3"
   ]
  },
  {
   "cell_type": "markdown",
   "metadata": {},
   "source": [
    "1- Faça um Programa que peça dois números e imprima o maior\n",
    "deles."
   ]
  },
  {
   "cell_type": "code",
   "execution_count": null,
   "metadata": {},
   "outputs": [],
   "source": [
    "n1 = int(input('Digite o primeiro número\\n'))\n",
    "n2 = int(input('Digite o segundo número\\n'))\n",
    "\n",
    "if n1 > n2:\n",
    "    print('O maior número é o primeiro ', n1)\n",
    "else:\n",
    "    print('O maior número é o segundo ',n2)"
   ]
  },
  {
   "cell_type": "markdown",
   "metadata": {},
   "source": [
    "2- Faça um Programa que verifque se uma letra digitada é vogal ou\n",
    "consoante."
   ]
  },
  {
   "cell_type": "code",
   "execution_count": null,
   "metadata": {},
   "outputs": [],
   "source": [
    "letra = input('digite uma letra \\n')\n",
    "\n",
    "if letra == 'a' or letra == 'e'  or letra == 'i' or letra == 'o' or letra == 'u':\n",
    "    print('é uma vogal')\n",
    "else:\n",
    "    print('é uma consoante')"
   ]
  },
  {
   "cell_type": "markdown",
   "metadata": {},
   "source": [
    "3- Faça um programa para a leitura de duas notas parciais de um\n",
    "aluno. O programa deve calcular a média alcançada por aluno e\n",
    "apresentar:\n",
    "- A mensagem \"Aprovado\", se a média alcançada for maior ou igual\n",
    "a sete;\n",
    "- A mensagem \"Reprovado\", se a média for menor do que sete;\n",
    "- A mensagem \"Aprovado com Distinção\", se a média for igual a\n",
    "dez."
   ]
  },
  {
   "cell_type": "code",
   "execution_count": null,
   "metadata": {},
   "outputs": [],
   "source": [
    "n1 = 10\n",
    "n2 = 9\n",
    "m = (n1+n2)/2\n",
    "\n",
    "if m >= 7 and m < 10 :\n",
    "    print('Aprovado')\n",
    "elif m == 10:\n",
    "    print('Aprovado com Distinção')\n",
    "else:\n",
    "    print('Reprovado')\n"
   ]
  },
  {
   "cell_type": "markdown",
   "metadata": {},
   "source": [
    "4- Faça um Programa que leia três números e mostre-os em ordem\n",
    "decrescente."
   ]
  },
  {
   "cell_type": "code",
   "execution_count": null,
   "metadata": {},
   "outputs": [],
   "source": [
    "n1 = 10\n",
    "n2 = 22\n",
    "n3 = 50\n",
    "\n",
    "num_array =  [n1, n2, n3]\n",
    "\n",
    "num_array.sort(reverse=True)\n",
    "\n",
    "print(num_array)"
   ]
  },
  {
   "cell_type": "markdown",
   "metadata": {},
   "source": [
    "5. As Organizações Tabajara resolveram dar um aumento de salário\n",
    "aos seus colaboradores e lhe contrataram para desenvolver o\n",
    "programa que calculará os reajustes.\n",
    "Faça um programa que recebe o salário de um colaborador e o\n",
    "reajuste segundo o seguinte critério, baseado no salário atual:\n",
    "- salários até R$ 280,00 (incluindo) : aumento de 20%\n",
    "- salários entre R$ 280,00 e R$ 700,00 : aumento de 15%\n",
    "- salários entre R$ 700,00 e R$ 1500,00 : aumento de 10%\n",
    "- salários de R$ 1500,00 em diante : aumento de 5% Após o\n",
    "aumento ser realizado, informe na tela:\n",
    "- o salário antes do reajuste;\n",
    "- o percentual de aumento aplicado;\n",
    "- o valor do aumento;\n",
    "- o novo salário, após o aumento."
   ]
  },
  {
   "cell_type": "code",
   "execution_count": null,
   "metadata": {},
   "outputs": [],
   "source": [
    "salario = int(input('Digite o salário\\n'))\n",
    "\n",
    "if salario <= 280:\n",
    "    print('\\nSalario antes do reajuste: R$', salario)\n",
    "    reajuste_salario = salario * 0.20 + salario\n",
    "    print('\\nVocê teve um aumento de 20% em seu salário, sou novo salário será: R$', reajuste_salario)\n",
    "    \n",
    "elif salario > 280 and salario < 700:\n",
    "    print('\\nSalario antes do reajuste: R$', salario)\n",
    "    reajuste_salario = salario * 0.15 + salario\n",
    "    print('\\nVocê teve um aumento de 15% em seu salário, sou novo salário será: R$', reajuste_salario)\n",
    "\n",
    "elif salario > 700 and salario < 1500:\n",
    "    print('\\nSalario antes do reajuste: R$', salario)\n",
    "    reajuste_salario = salario * 0.10 + salario\n",
    "    print('\\nVocê teve um aumento de 10% em seu salário, sou novo salário será: R$', reajuste_salario)\n",
    "\n",
    "else:\n",
    "    print('\\nSalario antes do reajuste: R$', salario)\n",
    "    reajuste_salario = salario * 0.05 + salario\n",
    "    print('\\nVocê teve um aumento de 5% em seu salário, sou novo salário será: R$', reajuste_salario)\n"
   ]
  },
  {
   "cell_type": "markdown",
   "metadata": {},
   "source": [
    "6- Faça um Programa que leia um número e exiba o dia\n",
    "correspondente da semana. (1-Domingo, 2- Segunda, etc.), se\n",
    "digitar outro valor deve aparecer valor inválido."
   ]
  },
  {
   "cell_type": "code",
   "execution_count": null,
   "metadata": {},
   "outputs": [],
   "source": [
    "dia = int(input('Digite um dia da semana'))\n",
    "\n",
    "if dia == 1:\n",
    "    print('Domingo')\n",
    "elif dia == 2:\n",
    "    print('Segunda')\n",
    "elif dia == 3:\n",
    "    print('Terça')\n",
    "elif dia == 4:\n",
    "    print('Quarta')\n",
    "elif dia == 5:\n",
    "    print('Quinta')\n",
    "elif dia == 6:\n",
    "    print('Sexta')\n",
    "elif dia == 7:\n",
    "    print('Sábado')\n",
    "else:\n",
    "    print('Dia inválido')"
   ]
  },
  {
   "cell_type": "markdown",
   "metadata": {},
   "source": [
    "7- Faça um programa que lê as duas notas parciais obtidas por um\n",
    "aluno numa disciplina ao longo de um semestre, e calcule a sua\n",
    "média. A atribuição de conceitos obedece à tabela abaixo:\n",
    "Média de Aproveitamento Conceito\n",
    "Entre 9.0 e 10.0 A\n",
    "Entre 7.5 e 9.0 B\n",
    "Entre 6.0 e 7.5 C\n",
    "Entre 4.0 e 6.0 D\n",
    "Entre 4.0 e zero E\n",
    "O algoritmo deve mostrar na tela as notas, a média, o conceito\n",
    "correspondente e a mensagem “APROVADO” se o conceito for A, B\n",
    "ou C ou “REPROVADO” se o conceito for D ou E."
   ]
  },
  {
   "cell_type": "code",
   "execution_count": null,
   "metadata": {},
   "outputs": [],
   "source": [
    "n1 = 10\n",
    "n2 = 10\n",
    "\n",
    "m = (n1+n2)/2\n",
    "\n",
    "if m >= 9 and m <= 10:\n",
    "    print('Aprovado - A')\n",
    "elif m >= 7.5 and m < 9:\n",
    "    print('Aprovado - B')\n",
    "elif m >= 6 and m < 7.5:\n",
    "    print('Aprovado - C')\n",
    "elif m >= 4 and m < 6:\n",
    "    print('Reprovado - D')\n",
    "else:\n",
    "    print('Reprovado - E')"
   ]
  },
  {
   "cell_type": "markdown",
   "metadata": {},
   "source": [
    "8- Faça um Programa que peça os 3 lados de um triângulo. O\n",
    "programa deverá informar se os valores podem ser um triângulo.\n",
    "Indique, caso os lados formem um triângulo, se o mesmo é:\n",
    "equilátero, isósceles ou escaleno.\n",
    "Dicas:\n",
    "- Três lados formam um triângulo quando a soma de quaisquer dois\n",
    "lados for maior que o terceiro;\n",
    "- Triângulo Equilátero: três lados iguais;\n",
    "- Triângulo Isósceles: quaisquer dois lados iguais;\n",
    "- Triângulo Escaleno: três lados diferentes;"
   ]
  },
  {
   "cell_type": "code",
   "execution_count": null,
   "metadata": {},
   "outputs": [],
   "source": [
    "l1 = int (input('digite o lado 1\\n'))\n",
    "l2 = int (input('digite o lado 2\\n'))\n",
    "l3 = int (input('digite o lado 3\\n'))\n",
    "\n",
    "if l1+l2 > l3 or l2+l3 > l1 or l3+l1 > l2:\n",
    "    if l1 == l2 and l2 == l3:\n",
    "        print('Triângulo Equilátero')\n",
    "    elif l1 == l2 or l2 == l3 or l3 == l1:\n",
    "        print('Triângulo Isóceles')\n",
    "    else:\n",
    "        print('Triângulo Escaleno')\n",
    "else:\n",
    "    print('Não é um triângulo')"
   ]
  },
  {
   "cell_type": "markdown",
   "metadata": {},
   "source": [
    "9- Faça um programa que calcule as raízes de uma equação do\n",
    "segundo grau, na forma ax2 + bx + c. O programa deverá pedir os\n",
    "valores de a, b e c e fazer as consistências, informando ao usuário\n",
    "nas seguintes situações:\n",
    "- Se o usuário informar o valor de A igual a zero, a equação não é do\n",
    "segundo grau e o programa não deve fazer pedir os demais valores,\n",
    "sendo encerrado;\n",
    "- Se o delta calculado for negativo, a equação não possui raizes\n",
    "reais. Informe ao usuário e encerre o programa;\n",
    "- Se o delta calculado for igual a zero a equação possui apenas uma\n",
    "raiz real; informe-a ao usuário;\n",
    "- Se o delta for positivo, a equação possui duas raiz reais; informeas\n",
    "ao usuário;"
   ]
  },
  {
   "cell_type": "code",
   "execution_count": null,
   "metadata": {},
   "outputs": [],
   "source": [
    "a = int(input('digite o valor de a:\\n'))\n",
    "\n",
    "if a != 0:\n",
    "    b = int(input('digite o valor de b:\\n'))\n",
    "    c = int(input('digite o valor de c:\\n'))\n",
    "    \n",
    "    delta = (b**2) - 4*a*c\n",
    "    \n",
    "    if delta < 0:\n",
    "        print('Não possui raízes reais')\n",
    "    elif delta == 0:\n",
    "        print('Possui apenas uma raiz real')\n",
    "    else:\n",
    "        print('Esta equação possui 2 raízes reais.')\n",
    "        \n",
    "        \n",
    "    \n",
    "    \n",
    "    \n",
    "    \n",
    "else:\n",
    "    print('Esta equação não é mais do segundo grau')\n"
   ]
  },
  {
   "cell_type": "markdown",
   "metadata": {},
   "source": [
    "10- Faça um Programa para um caixa eletrônico. O programa\n",
    "deverá perguntar ao usuário a valor do saque e depois informar\n",
    "quantas notas de cada valor serão fornecidas. As notas disponíveis\n",
    "serão as de 1, 5, 10, 50 e 100 reais. O valor mínimo é de 10 reais e\n",
    "o máximo de 600 reais. O programa não deve se preocupar com a\n",
    "quantidade de notas existentes na máquina.\n",
    "- Exemplo 1: Para sacar a quantia de 256 reais, o programa fornece\n",
    "duas notas de 100, uma nota de 50, uma nota de 5 e uma nota de\n",
    "1;\n",
    "- Exemplo 2: Para sacar a quantia de 399 reais, o programa fornece\n",
    "três notas de 100, uma nota de 50, quatro notas de 10, uma nota de\n",
    "5 e quatro notas de 1.\n"
   ]
  },
  {
   "cell_type": "code",
   "execution_count": null,
   "metadata": {},
   "outputs": [],
   "source": [
    "saque = int(input('Qual o valor do saque?\\n'))\n",
    "\n",
    "u = saque // 1 % 10\n",
    "d = saque // 10 % 10\n",
    "c = saque // 100 % 10\n",
    "\n",
    "if saque >= 10 and saque <= 600:\n",
    "    print('Valor do saque: R${}\\n'.format(saque))\n",
    "    print('{} notas de R$100,00\\n'.format(c))\n",
    "    print('{} notas de R$10,00\\n'.format(d))\n",
    "    print('{} notas de R$1,00\\n'.format(u))\n",
    "\n",
    "else:\n",
    "    print('Saque mínimo: R$ 10,00 e Saque mínimo: R$ 600,00')"
   ]
  },
  {
   "cell_type": "markdown",
   "metadata": {},
   "source": [
    "11- Faça um programa que faça 5 perguntas para uma pessoa\n",
    "sobre um crime. As perguntas são:\n",
    "\"Telefonou para a vítima?\"\n",
    "\"Esteve no local do crime?\"\n",
    "\"Mora perto da vítima?\"\n",
    "\"Devia para a vítima?\"\n",
    "\"Já trabalhou com a vítima?\"\n",
    "O programa deve no fnal emitir uma classifcação sobre a\n",
    "participação da pessoa no crime. Se a pessoa responder\n",
    "positivamente a 2 questões ela deve ser classifcada como\n",
    "\"Suspeita\", entre 3 e 4 como \"Cúmplice\" e 5 como \"Assassino\". Caso\n",
    "contrário, ele será classifcado como \"Inocente\""
   ]
  },
  {
   "cell_type": "code",
   "execution_count": null,
   "metadata": {},
   "outputs": [],
   "source": [
    "q1 = input('Telefonou para a vítima?\\n')\n",
    "q2 = input('Esteve no local do crime?\\n')\n",
    "q3 = input('Mora perto da vítima?\\n')\n",
    "q4 = input('Devia para a vítima?\\n')\n",
    "q5 = input('Já trabalhou com a vítima?\\n')\n",
    "\n",
    "suspeita = []\n",
    "\n",
    "if q1 == 'sim':\n",
    "    suspeita.append(q1)\n",
    "if q2 == 'sim':\n",
    "    suspeita.append(q2)\n",
    "if q3 == 'sim':\n",
    "    suspeita.append(q3)\n",
    "if q4 == 'sim':\n",
    "    suspeita.append(q4)\n",
    "if q5 == 'sim':\n",
    "    suspeita.append(q5)\n",
    "\n",
    "crime = suspeita.count('sim')\n",
    "\n",
    "if crime == 2:\n",
    "    print('Suspeita')\n",
    "elif crime >= 3 and crime <= 4:\n",
    "    print('Cúmplice')\n",
    "elif crime == 5:\n",
    "    print('Assassino')\n",
    "else:\n",
    "    print('Inocente')\n"
   ]
  },
  {
   "cell_type": "markdown",
   "metadata": {},
   "source": [
    "12-  Uma fruteira está vendendo frutas com a seguinte tabela de\n",
    "preços:\n",
    "                    Até 5 Kg          Acima de 5 Kg\n",
    "    Morango   R$ 2,50 por Kg         R$ 2,20 por Kg\n",
    "    Maçã      R$ 1,80 por Kg         R$ 1,50 por Kg\n",
    "    \n",
    "Se o cliente comprar mais de 8 Kg em frutas ou o valor total da\n",
    "compra ultrapassar R$ 25,00, receberá ainda um desconto de 10%\n",
    "sobre este total. \n",
    "\n",
    "Escreva um algoritmo para ler a quantidade (em\n",
    "Kg) de morangos e a quantidade (em Kg) de maças adquiridas e\n",
    "escreva o valor a ser pago pelo cliente."
   ]
  },
  {
   "cell_type": "code",
   "execution_count": null,
   "metadata": {},
   "outputs": [],
   "source": [
    "mor = int(input('Digite a quantidade de Kg de morangos\\n'))\n",
    "mac = int(input('Digite a quantidade de Kg de Maçãs\\n'))\n",
    "\n",
    "\n",
    "if mor <= 5:\n",
    "    preco_mor = 2.5 * mor\n",
    "else:\n",
    "    preco_mor = 2.2 * mor\n",
    "\n",
    "if mac <= 5:\n",
    "    preco_mac = 1.8 * mac\n",
    "else:\n",
    "    preco_mac = 1.5 * mac\n",
    "    \n",
    "preco_total = preco_mac + preco_mor\n",
    "peso_total = mac + mor \n",
    "\n",
    "\n",
    "if preco_total >= 25 or peso_total >= 8:\n",
    "    \n",
    "    preco_total = preco_total - preco_total * 0.10\n",
    "    print('O valor a ser pago é de: R$',preco_total)\n",
    "else:\n",
    "    print('O valor a ser pago é de: R$',preco_total)"
   ]
  },
  {
   "cell_type": "markdown",
   "metadata": {},
   "source": [
    "13- Faça um programa que peça uma nota, entre zero e dez. Mostre\n",
    "uma mensagem caso o valor seja inválido e continue pedindo até\n",
    "que o usuário informe um valor válido."
   ]
  },
  {
   "cell_type": "code",
   "execution_count": 7,
   "metadata": {},
   "outputs": [
    {
     "name": "stdout",
     "output_type": "stream",
     "text": [
      "Insira uma nota de zero a dez\n",
      "10\n",
      "\n",
      "Nota válida: 10\n"
     ]
    }
   ],
   "source": [
    "nota = int(input('Insira uma nota de zero a dez\\n'))\n",
    "\n",
    "while nota < 0 or nota > 10:\n",
    "    print('Insira uma nota válida!\\n')\n",
    "    nota = int(input('Insira uma nota de zero a dez\\n'))\n",
    "print('\\nNota válida:',nota)"
   ]
  },
  {
   "cell_type": "markdown",
   "metadata": {},
   "source": [
    "14- Faça um programa que leia e valide as seguintes informações:\n",
    "Nome: maior que 3 caracteres;\n",
    "Idade: entre 0 e 150;\n",
    "Salário: maior que zero;\n",
    "Sexo: 'f' ou 'm';\n",
    "Estado Civil: 's', 'c', 'v', 'd';"
   ]
  },
  {
   "cell_type": "code",
   "execution_count": null,
   "metadata": {},
   "outputs": [],
   "source": [
    "nome = input('Nome:\\n')\n",
    "idade = int(input('Idade:\\n'))\n",
    "salario = int(input('Salário:\\n'))\n",
    "sexo = input('Sexo:\\n')\n",
    "estado_civil = input('Estado Civil:\\n')\n",
    "\n",
    "while len(nome) < 3:\n",
    "    print('Por favor, insira um nome maior que 3 caracteres.\\n')\n",
    "    nome = nome = input('Nome:\\n')\n",
    "while idade < 0 or idade > 150:\n",
    "    print('Por favor, insira uma idade entre 0 e 150 anos.\\n')\n",
    "    idade = int(input('Idade:\\n'))\n",
    "while salario < 0:\n",
    "    print('Por favor, insira um salário maior que 0.\\n')\n",
    "    salario = int(input('Salário:\\n'))\n",
    "while (sexo != 'f') and (sexo != 'm'):\n",
    "    print('Por favor, insira um sexo: m para masculino e f para feminino.\\n')\n",
    "    sexo = input('Sexo:\\n')\n",
    "while (estado_civil != 's') and (estado_civil != 'c') and (estado_civil != 'v') and (estado_civil != 'd'):\n",
    "    print('Por favor, insira um estado civil: s para solteiro(a), c para casado(a), v para viúvo(a) ou d para divorciado(a).\\n')\n",
    "    estado_civil = input('Estado Civil:\\n')\n",
    "    \n",
    "print('Nome: {}\\nIdade: {}\\nSalário: {}\\nSexo: {}\\nEstado Civil: {}'.format(nome, idade, salario, sexo, estado_civil))\n",
    "    \n",
    "    \n",
    "    "
   ]
  },
  {
   "cell_type": "markdown",
   "metadata": {},
   "source": [
    "15- Faça um programa que leia 5 números e informe o maior\n",
    "número."
   ]
  },
  {
   "cell_type": "code",
   "execution_count": null,
   "metadata": {},
   "outputs": [],
   "source": [
    "numeros = eval('['+ input('insira 5 números') + ']')\n",
    "\n",
    "print(max(numeros))"
   ]
  },
  {
   "cell_type": "markdown",
   "metadata": {},
   "source": [
    "16- Faça um programa que leia 5 números e informe a soma e a\n",
    "média dos números."
   ]
  },
  {
   "cell_type": "code",
   "execution_count": null,
   "metadata": {},
   "outputs": [],
   "source": [
    "numeros = eval('['+ input('insira 5 números\\n') + ']')\n",
    "\n",
    "soma = sum(numeros)\n",
    "media = soma/len(numeros)\n",
    "print('A soma é: {} e a média é: {}'.format(soma, media))"
   ]
  },
  {
   "cell_type": "markdown",
   "metadata": {},
   "source": [
    "17 - Faça um programa que imprima na tela apenas os números\n",
    "ímpares entre 1 e 50."
   ]
  },
  {
   "cell_type": "code",
   "execution_count": null,
   "metadata": {},
   "outputs": [],
   "source": [
    "for i in range(1, 50, 2): \n",
    "    print(i)"
   ]
  },
  {
   "cell_type": "markdown",
   "metadata": {},
   "source": [
    "18- Desenvolva um gerador de tabuada, capaz de gerar a tabuada\n",
    "de qualquer número inteiro entre 1 a 10. O usuário deve informar\n",
    "de qual numero ele deseja ver a tabuada. A saída deve ser\n",
    "conforme o exemplo abaixo:\n",
    "Tabuada de 5:\n",
    "5 X 1 = 5\n",
    "5 X 2 = 10\n",
    "...\n",
    "5 X 10 = 50"
   ]
  },
  {
   "cell_type": "code",
   "execution_count": null,
   "metadata": {},
   "outputs": [],
   "source": [
    "n_tabuada = int(input('Digite o número da tabuada que deseja de 1 a 10\\n'))\n",
    "\n",
    "while n_tabuada < 1 or n_tabuada > 10:\n",
    "    print('O número digitado deve estar entre 1 a 10!!!!!!!!')\n",
    "    n_tabuada = int(input('Digite o número da tabuada que deseja de 1 a 10\\n'))\n",
    "\n",
    "n1 = n_tabuada * 1\n",
    "n2 = n_tabuada * 2\n",
    "n3 = n_tabuada * 3\n",
    "n4 = n_tabuada * 4\n",
    "n5 = n_tabuada * 5\n",
    "n6 = n_tabuada * 6\n",
    "n7 = n_tabuada * 7\n",
    "n8 = n_tabuada * 8\n",
    "n9 = n_tabuada * 9\n",
    "n10 = n_tabuada * 10\n",
    "\n",
    "print('\\nTabuada de {}:\\n{} X 1 = {}\\n{} X 2 = {}\\n{} X 3 = {}\\n{} X 4 = {}\\n{} X 5 = {}\\n{} X 6 = {}\\n{} X 7 = {}\\n{} X 8 = {}\\n{} X 9 = {}\\n{} X 10 = {}\\n'.format(n_tabuada,n_tabuada,n1,n_tabuada,n2,n_tabuada,n3,n_tabuada,n4,n_tabuada,n5,n_tabuada,n6,n_tabuada,n7,n_tabuada,n8,n_tabuada,n9,n_tabuada,n10,))\n",
    "\n"
   ]
  },
  {
   "cell_type": "markdown",
   "metadata": {},
   "source": [
    "19- A série de Fibonacci é formada pela seqüência\n",
    "1,1,2,3,5,8,13,21,34,55,... Faça um programa capaz de gerar a série\n",
    "até o n−ésimo termo."
   ]
  },
  {
   "cell_type": "code",
   "execution_count": null,
   "metadata": {},
   "outputs": [],
   "source": [
    "fib(int(input('Digite o n-ésimo numero\\n')))\n",
    "\n",
    "def fib(n):\n",
    "    a = 0\n",
    "    b = 1;\n",
    "    print(a)\n",
    "    while (b < n):\n",
    "        c = a\n",
    "        a = b\n",
    "        b = a + c\n",
    "        print(a)"
   ]
  },
  {
   "cell_type": "markdown",
   "metadata": {},
   "source": [
    "20 - Faça um programa que calcule o fatorial de um número inteiro\n",
    "fornecido pelo usuário. Ex.: 5!=5.4.3.2.1=120"
   ]
  },
  {
   "cell_type": "code",
   "execution_count": null,
   "metadata": {},
   "outputs": [],
   "source": [
    "def fat():\n",
    "    n = int(input(\"Digite o valor de n: \"))\n",
    "    fat = 1\n",
    "    i = 2\n",
    "    while i <= n:\n",
    "        fat = fat*i\n",
    "        i = i + 1\n",
    "\n",
    "    print('O valor de {}! é = {}'.format(n, fat))\n",
    "\n",
    "fat()"
   ]
  },
  {
   "cell_type": "markdown",
   "metadata": {},
   "source": [
    "21 - O Sr. Manoel Joaquim possui uma grande loja de artigos de R$\n",
    "1,99, com cerca de 10 caixas. Para agilizar o cálculo de quanto cada\n",
    "cliente deve pagar ele desenvolveu um tabela que contém o\n",
    "número de itens que o cliente comprou e ao lado o valor da conta.\n",
    "Desta forma a atendente do caixa precisa apenas contar quantos\n",
    "itens o cliente está levando e olhar na tabela de preços. Você foi\n",
    "contratado para desenvolver o programa que monta esta tabela de\n",
    "preços, que conterá os preços de 1 até 50 produtos, conforme o\n",
    "exemplo abaixo:\n",
    "Lojas Quase Dois - Tabela de preços\n",
    "1- R$ 1.99\n",
    "2- R$ 3.98\n",
    "...\n",
    "50- R$ 99.50"
   ]
  },
  {
   "cell_type": "code",
   "execution_count": null,
   "metadata": {},
   "outputs": [],
   "source": []
  }
 ],
 "metadata": {
  "kernelspec": {
   "display_name": "Python 3",
   "language": "python",
   "name": "python3"
  },
  "language_info": {
   "codemirror_mode": {
    "name": "ipython",
    "version": 3
   },
   "file_extension": ".py",
   "mimetype": "text/x-python",
   "name": "python",
   "nbconvert_exporter": "python",
   "pygments_lexer": "ipython3",
   "version": "3.6.5"
  }
 },
 "nbformat": 4,
 "nbformat_minor": 2
}
