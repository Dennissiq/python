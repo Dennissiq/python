{
 "cells": [
  {
   "cell_type": "markdown",
   "metadata": {},
   "source": [
    "# Aula 1\n",
    "\n",
    "## Lista de exercícios - Dennis Siqueira - 81621468"
   ]
  },
  {
   "cell_type": "markdown",
   "metadata": {},
   "source": [
    "1 - Faça um Programa que peça o raio de um círculo, calcule e\n",
    "mostre sua área."
   ]
  },
  {
   "cell_type": "code",
   "execution_count": 7,
   "metadata": {},
   "outputs": [
    {
     "name": "stdout",
     "output_type": "stream",
     "text": [
      "Insira o raio desejado: \n",
      "45\n",
      "6361.725123519331\n"
     ]
    }
   ],
   "source": [
    "import math\n",
    "\n",
    "r =  int(input('Insira o raio desejado: \\n'))\n",
    "pi = math.pi\n",
    "area = pi*(r**2)\n",
    "\n",
    "print(area)"
   ]
  },
  {
   "cell_type": "markdown",
   "metadata": {},
   "source": [
    "2 - Faça um Programa que calcule a área de um quadrado, em\n",
    "seguida mostre o dobro desta área para o usuário."
   ]
  },
  {
   "cell_type": "code",
   "execution_count": 5,
   "metadata": {},
   "outputs": [
    {
     "name": "stdout",
     "output_type": "stream",
     "text": [
      "Qual o tamanho dos lados do seu quadrado? \n",
      "40\n",
      "A área e: 1600 \n",
      "O dobro da área é: 3200\n"
     ]
    }
   ],
   "source": [
    "l = int(input('Qual o tamanho dos lados do seu quadrado? \\n'))\n",
    "\n",
    "area = l**2\n",
    "area_2x = area*2\n",
    "\n",
    "print('A área e: {} \\nO dobro da área é: {}'.format(area,area_2x))"
   ]
  },
  {
   "cell_type": "markdown",
   "metadata": {},
   "source": [
    "3 - Faça um Programa que pergunte quanto você ganha por hora e o\n",
    "número de horas trabalhadas no mês. Calcule e mostre o total do\n",
    "seu salário no referido mês."
   ]
  },
  {
   "cell_type": "code",
   "execution_count": 6,
   "metadata": {
    "scrolled": true
   },
   "outputs": [
    {
     "name": "stdout",
     "output_type": "stream",
     "text": [
      "Quanto vc ganha por hora?\n",
      "45\n",
      "Qual a quantidade de horas trabalhadas por mês?\n",
      "45\n",
      "Seu salário é: 2025\n"
     ]
    }
   ],
   "source": [
    "salary_per_hours = int(input('Quanto vc ganha por hora?\\n'))\n",
    "hours_per_month = int(input('Qual a quantidade de horas trabalhadas por mês?\\n'))\n",
    "\n",
    "salary = salary_per_hours * hours_per_month\n",
    "\n",
    "print('Seu salário é: {}'.format(salary))"
   ]
  },
  {
   "cell_type": "markdown",
   "metadata": {},
   "source": [
    "4 - Faça um Programa que peça a temperatura em graus Farenheit,\n",
    "transforme e mostre a temperatura em graus Celsius. C = (5 * (F-\n",
    "32) / 9)."
   ]
  },
  {
   "cell_type": "code",
   "execution_count": null,
   "metadata": {},
   "outputs": [],
   "source": [
    "f = int(input('Qual a temperatura em Farenheit?\\n'))\n",
    "\n",
    "c = (5*(f-32)/9)\n",
    "\n",
    "print('a temperatura em celsius é: {}'.format(c))"
   ]
  },
  {
   "cell_type": "markdown",
   "metadata": {},
   "source": [
    "5 - Faça um Programa que peça a temperatura em graus Celsius,\n",
    "transforme e mostre em graus Farenheit."
   ]
  },
  {
   "cell_type": "code",
   "execution_count": null,
   "metadata": {},
   "outputs": [],
   "source": [
    "c = int(input('Qual a temperatura em Celsius?\\n'))\n",
    "\n",
    "f = (c*1.8)+32\n",
    "\n",
    "print('a temperatura em Farenheit é: {}'.format(f))"
   ]
  },
  {
   "cell_type": "markdown",
   "metadata": {},
   "source": [
    "6 - Faça um Programa que peça 2 números inteiros e um número\n",
    "real. Calcule e mostre:\n",
    "- o produto do dobro do primeiro com metade do segundo.\n",
    "- a soma do triplo do primeiro com o terceiro.\n",
    "- o terceiro elevado ao cubo."
   ]
  },
  {
   "cell_type": "code",
   "execution_count": null,
   "metadata": {},
   "outputs": [],
   "source": [
    "num1 = int(input('Insira um número inteiro\\n'))\n",
    "num2 = float(input('Insira um número real\\n'))\n",
    "\n",
    "\n",
    "produto = (2*num1)*(num2/2) \n",
    "soma = (num1*3) + produto\n",
    "terceiro = produto**3\n",
    "\n",
    "print('O produto do dobro de primeiro é: {}, a soma do triplo é: {}, o terceiro elevado é: {}'.format(produto,soma,terceiro))"
   ]
  },
  {
   "cell_type": "markdown",
   "metadata": {},
   "source": [
    "7 - João Papo-de-Pescador, homem de bem, comprou um\n",
    "microcomputador para controlar o rendimento diário de seu\n",
    "trabalho. Toda vez que ele traz um peso de peixes maior que o\n",
    "estabelecido pelo regulamento de pesca do estado de São Paulo (50\n",
    "quilos) deve pagar uma multa de R$ 4,00 por quilo excedente. João\n",
    "precisa que você faça um programa que leia a variável peso (peso\n",
    "de peixes) e verifque se há excesso. Se houver, gravar na variável\n",
    "excesso e na variável multa o valor da multa que João deverá pagar.\n",
    "Caso contrário mostrar tais variáveis com o conteúdo ZERO."
   ]
  },
  {
   "cell_type": "code",
   "execution_count": null,
   "metadata": {},
   "outputs": [],
   "source": [
    "peso = float(input('João, quantos quilos você pescou dessa vez?'))\n",
    "\n",
    "if peso > 50:\n",
    "    excesso = peso - 50\n",
    "    multa =  excesso*4\n",
    "    print('João, você passou {}kg do limite permitido e pagará R${} de multa'.format(excesso, multa))\n",
    "else:\n",
    "    excesso = 0\n",
    "    multa = 0\n",
    "    print('João, dessa vez você não pagará nenhuma multa :)\\nExcesso: {}\\nMulta:{}'.format(excesso,multa))"
   ]
  },
  {
   "cell_type": "markdown",
   "metadata": {},
   "source": [
    "8 - Faça um Programa que pergunte quanto você ganha por hora e o\n",
    "número de horas trabalhadas no mês. Calcule e mostre o total do\n",
    "seu salário no referido mês, sabendo-se que são descontados 11%\n",
    "para o Imposto de Renda, 8% para o INSS e 5% para o sindicato,\n",
    "faça um programa que nos dê:"
   ]
  },
  {
   "cell_type": "code",
   "execution_count": null,
   "metadata": {
    "scrolled": true
   },
   "outputs": [],
   "source": [
    "salary_per_hours = int(input('Quanto vc ganha por hora?\\n'))\n",
    "hours_per_month = int(input('Qual a quantidade de horas trabalhadas por mês?\\n'))\n",
    "\n",
    "salary = salary_per_hours * hours_per_month\n",
    "\n",
    "\n",
    "ir = salary * 0.11\n",
    "inss = salary * 0.08\n",
    "syndicate = salary * 0.05\n",
    "\n",
    "discount = ir + inss + syndicate\n",
    "\n",
    "liquid_salary = salary - discount\n",
    "\n",
    "print('O seu salário líquido é R$ {}'.format(liquid_salary))"
   ]
  },
  {
   "cell_type": "markdown",
   "metadata": {},
   "source": [
    "9 -  Faça um programa que leia 2 strings e informe o conteúdo delas\n",
    "seguido do seu comprimento. Informe também se as duas strings\n",
    "possuem o mesmo comprimento e são iguais ou diferentes no\n",
    "conteúdo."
   ]
  },
  {
   "cell_type": "code",
   "execution_count": null,
   "metadata": {},
   "outputs": [],
   "source": [
    "str1 = input('Digite algum texto\\n')\n",
    "str2 = input('Digite outro texto\\n')\n",
    "\n",
    "\n",
    "print('Tamanho de \"{}\": {} caracteres'.format(str1, len(str1)))\n",
    "print('Tamanho de \"{}\": {} caracteres\\n'.format(str2, len(str2)))\n",
    "\n",
    "if len(str1) == len(str2):\n",
    "    print('As duas strings possuem o mesmo tamanho')\n",
    "else:\n",
    "    print('As duas strings possuem tamanhos diferentes')\n",
    "\n",
    "if str1 != str2:\n",
    "    print('As strings possuem conteúdo diferente')\n",
    "else:\n",
    "    print('As strings são iguais')"
   ]
  },
  {
   "cell_type": "markdown",
   "metadata": {},
   "source": [
    "10 - Faça um programa que permita ao usuário digitar o seu nome e\n",
    "em seguida mostre o nome do usuário de trás para frente utilizando\n",
    "somente letras maiúsculas. Dica: lembre−se que ao informar o\n",
    "nome o usuário pode digitar letras maiúsculas ou minúsculas.\n",
    "Observação: não use loops."
   ]
  },
  {
   "cell_type": "code",
   "execution_count": null,
   "metadata": {},
   "outputs": [],
   "source": [
    "nome = input('Digite seu nome\\n')\n",
    "\n",
    "nome = nome[::-1].upper()\n",
    "print(nome)"
   ]
  },
  {
   "cell_type": "markdown",
   "metadata": {},
   "source": [
    "11 - Faça um programa que solicite a data de nascimento\n",
    "(dd/mm/aaaa) do usuário e imprima a data com o nome do mês por\n",
    "extenso.\n",
    "Data de Nascimento: 29/10/1973\n",
    "Você nasceu em 29 de Outubro de 1973.\n",
    "Obs.: Não use desvio condicional nem loops."
   ]
  },
  {
   "cell_type": "code",
   "execution_count": null,
   "metadata": {},
   "outputs": [],
   "source": [
    "bday = input('Quando você nasceu?\\n')\n",
    "\n",
    "mm_ext = {\n",
    "    1: 'Janeiro',\n",
    "    2: 'Fevereiro',\n",
    "    3: 'Março',\n",
    "    4: 'Abril',\n",
    "    5: 'Maio',\n",
    "    6: 'Junho',\n",
    "    7: 'Julho',\n",
    "    8: 'Agosto',\n",
    "    9: 'Setembro',\n",
    "    10: 'Outubro',\n",
    "    11: 'Novembro',\n",
    "    12: 'Dezembro'\n",
    "}\n",
    "\n",
    "dd, mm, yyyy = bday.split('/')\n",
    "\n",
    "print('Você nasceu {} de {} de {}.'.format(dd, mm_ext[int(mm)], yyyy))\n"
   ]
  },
  {
   "cell_type": "markdown",
   "metadata": {},
   "source": [
    "12 - Leet é uma forma de se escrever o alfabeto latino usando outros\n",
    "símbolos em lugar das letras, como números por exemplo. A própria\n",
    "palavra leet admite muitas variações, como l33t ou 1337. O uso do\n",
    "leet reflete uma subcultura relacionada ao mundo dos jogos de\n",
    "computador e internet, sendo muito usada para confundir os\n",
    "iniciantes e afrmar-se como parte de um grupo. Pesquise sobre as\n",
    "principais formas de traduzir as letras. Depois, faça um programa\n",
    "que peça uma texto e transforme-o para a grafa leet speak.\n",
    "\n",
    "Desafio: não use loops nem desvios condicionais.\n"
   ]
  },
  {
   "cell_type": "code",
   "execution_count": null,
   "metadata": {},
   "outputs": [],
   "source": [
    "import string\n",
    "text = input('Digite seu texto:\\n')\n",
    "\n",
    "print(text.translate(bytes.maketrans(b'aeiots',b'43!07$')))"
   ]
  },
  {
   "cell_type": "code",
   "execution_count": null,
   "metadata": {},
   "outputs": [],
   "source": []
  }
 ],
 "metadata": {
  "kernelspec": {
   "display_name": "Python 3",
   "language": "python",
   "name": "python3"
  },
  "language_info": {
   "codemirror_mode": {
    "name": "ipython",
    "version": 3
   },
   "file_extension": ".py",
   "mimetype": "text/x-python",
   "name": "python",
   "nbconvert_exporter": "python",
   "pygments_lexer": "ipython3",
   "version": "3.6.5"
  }
 },
 "nbformat": 4,
 "nbformat_minor": 2
}
